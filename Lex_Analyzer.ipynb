{
  "nbformat": 4,
  "nbformat_minor": 0,
  "metadata": {
    "colab": {
      "provenance": [],
      "authorship_tag": "ABX9TyPh2jQkiVvcZg+mFzj9gyz9",
      "include_colab_link": true
    },
    "kernelspec": {
      "name": "python3",
      "display_name": "Python 3"
    },
    "language_info": {
      "name": "python"
    }
  },
  "cells": [
    {
      "cell_type": "markdown",
      "metadata": {
        "id": "view-in-github",
        "colab_type": "text"
      },
      "source": [
        "<a href=\"https://colab.research.google.com/github/NandiniNagothu/CD-Lab/blob/main/Lex_Analyzer.ipynb\" target=\"_parent\"><img src=\"https://colab.research.google.com/assets/colab-badge.svg\" alt=\"Open In Colab\"/></a>"
      ]
    },
    {
      "cell_type": "code",
      "source": [
        "\n",
        "with open('e1-example.txt') as t:\n",
        "\ttext = t.read().split()\n",
        " \n",
        "\n",
        "print(\"Keywords: \",detect_keywords(text))\n",
        "print(\"Operators: \",detect_operators(text))\n",
        "print(\"Delimiters: \",detect_delimiters(text))\n",
        "print(\"Identifiers: \",detect_identifiers(text))\n",
        "print(\"Numbers: \",detect_num(text))"
      ],
      "metadata": {
        "colab": {
          "base_uri": "https://localhost:8080/"
        },
        "id": "bQpEfSLyF3Us",
        "outputId": "344ba924-925f-4630-dc1c-d04e4f5fe3f0"
      },
      "execution_count": 6,
      "outputs": [
        {
          "output_type": "stream",
          "name": "stdout",
          "text": [
            "Keywords:  ['if', 'for', 'return']\n",
            "Operators:  ['=', '==', '+']\n",
            "Delimiters:  []\n",
            "Identifiers:  ['keywords', '{\"auto\",\"break\",\"case\",\"char\",\"const\",\"continue\",\"default\",\"do\",', '\"double\",\"else\",\"enum\",\"extern\",\"float\",\"for\",\"goto\",', '\"if\",\"int\",\"long\",\"register\",\"return\",\"short\",\"signed\",', '\"sizeof\",\"static\",\"struct\",\"switch\",\"typedef\",\"union\",', '\"unsigned\",\"void\",\"volatile\",\"while\",\"printf\",\"scanf\",\"%d\",\"include\",\"stdio.h\",\"main\"}', 'operators', '{\"+\",\"-\",\"*\",\"/\",\"<\",\">\",\"=\",\"<=\",\">=\",\"==\",\"!=\",\"++\",\"--\",\"%\"}', 'delimiters', '{\\'(\\',\\')\\',\\'{\\',\\'}\\',\\'[\\',\\']\\',\\'\"\\',\"\\'\",\\';\\',\\'#\\',\\',\\',\\'\\'}', 'def', 'detect_keywords(text):', 'arr', '[]', 'word', 'in', 'text:', 'word', 'in', 'keywords:', 'arr.append(word)', 'list(set(arr))', 'def', 'detect_operators(text):', 'arr', '[]', 'word', 'in', 'text:', 'word', 'in', 'operators:', 'arr.append(word)', 'list(set(arr))', 'def', 'detect_delimiters(text):', 'arr', '[]', 'word', 'in', 'text:', 'word', 'in', 'delimiters:', 'arr.append(word)', 'list(set(arr))', 'def', 'detect_num(text):', 'arr', '[]', 'word', 'in', 'text:', 'try:', 'a', 'int(word)', 'arr.append(word)', 'except:', 'pass', 'list(set(arr))', '\"\"\"', 'this', 'is', 'original', 'function', 'detecting', 'identifier', 'def', 'is_identifier(token):', 'token[0]', 'in', 'numbers', 'or', 'token', 'in', 'keywords:', 'False', 'else:', 'identifier(token)', 'def', 'identifier(token):', 'len(token)<2', 'and', '(token[0]', 'in', 'alphabets', 'or', 'token[0]', 'in', 'numbers', 'or', 'token[0]', '\"_\"):', 'True', 'elif', 'token[0]', 'in', 'alphabets', 'or', 'token[0]', 'in', 'numbers', 'or', 'token[0]', '\"_\":', 'identifier(token[1:])', 'else:', 'False', '\"\"\"', 'def', 'detect_identifiers(text):', 'k', 'detect_keywords(text)', 'o', 'detect_operators(text)', 'd', 'detect_delimiters(text)', 'n', 'detect_num(text)', 'not_ident', 'k', 'o', 'd', 'n', 'arr', '[]', 'word', 'in', 'text:', 'word', 'not', 'in', 'not_ident:', 'arr.append(word)', 'arr']\n",
            "Numbers:  []\n"
          ]
        }
      ]
    }
  ]
}